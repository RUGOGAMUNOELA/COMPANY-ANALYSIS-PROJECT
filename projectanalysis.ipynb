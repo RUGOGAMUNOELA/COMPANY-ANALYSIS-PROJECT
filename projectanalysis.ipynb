{
 "cells": [
  {
   "cell_type": "markdown",
   "id": "daa5f2ca",
   "metadata": {},
   "source": [
    " RUGOGAMU NOELA   COMPANY PROJECT ANALYSIS"
   ]
  },
  {
   "cell_type": "markdown",
   "id": "1a21e395",
   "metadata": {},
   "source": [
    "1. IMPORTING REQUIRED PACKAGES"
   ]
  },
  {
   "cell_type": "code",
   "execution_count": 1,
   "id": "44edc96b",
   "metadata": {},
   "outputs": [],
   "source": [
    "import pandas as pd #For handling data\n",
    "import numpy as np # For calculations and operations\n",
    "import seaborn as sns # For creation of beautiful visualisations\n",
    "import matplotlib.pyplot as plt #For easy customisation of plots and graphs"
   ]
  },
  {
   "cell_type": "markdown",
   "id": "c8ea24ef",
   "metadata": {},
   "source": [
    "2. LOADING THE DATASET"
   ]
  },
  {
   "cell_type": "code",
   "execution_count": 2,
   "id": "d17eef25",
   "metadata": {},
   "outputs": [],
   "source": [
    "#Importing the dataset\n",
    "df = pd.read_excel('Companies - Analysis.xlsx', engine = 'openpyxl')"
   ]
  },
  {
   "cell_type": "markdown",
   "id": "92ccf257",
   "metadata": {},
   "source": [
    "3. UNDERSTANDING THE DATASET"
   ]
  },
  {
   "cell_type": "code",
   "execution_count": 3,
   "id": "3cb93d0a",
   "metadata": {},
   "outputs": [
    {
     "data": {
      "application/vnd.microsoft.datawrangler.viewer.v0+json": {
       "columns": [
        {
         "name": "index",
         "rawType": "int64",
         "type": "integer"
        },
        {
         "name": "Date of Registration",
         "rawType": "datetime64[ns]",
         "type": "datetime"
        },
        {
         "name": "Company Type",
         "rawType": "object",
         "type": "string"
        },
        {
         "name": "Unnamed: 2",
         "rawType": "float64",
         "type": "float"
        },
        {
         "name": "Registration Status",
         "rawType": "object",
         "type": "string"
        },
        {
         "name": "Country Of Incorporation",
         "rawType": "object",
         "type": "unknown"
        },
        {
         "name": "Nominal Share Capital",
         "rawType": "float64",
         "type": "float"
        },
        {
         "name": "Number Of Shares",
         "rawType": "float64",
         "type": "float"
        },
        {
         "name": "Re Registration Date",
         "rawType": "datetime64[ns]",
         "type": "datetime"
        },
        {
         "name": "Last Year Company Filed Returns",
         "rawType": "float64",
         "type": "float"
        }
       ],
       "ref": "e77ab071-a884-4ea9-91f5-b3a2e04a77eb",
       "rows": [
        [
         "0",
         "2023-05-22 10:11:24.692000",
         "single-member-company",
         null,
         "Registered",
         "Uganda",
         "5000000.0",
         "100.0",
         null,
         "2024.0"
        ],
        [
         "1",
         "2023-04-13 08:39:42.952000",
         "private-company-limited-by-shares",
         null,
         "Registered",
         null,
         "2000000.0",
         "100.0",
         null,
         "2024.0"
        ],
        [
         "2",
         "2025-02-13 07:19:01.993000",
         "private-company-limited-by-guarantee-without-shares",
         null,
         "Registered",
         "Uganda",
         null,
         null,
         null,
         "0.0"
        ],
        [
         "3",
         "2025-01-29 11:07:40.697000",
         "private-company-limited-by-guarantee-without-shares",
         null,
         "Registered",
         "Uganda",
         null,
         null,
         null,
         "0.0"
        ],
        [
         "4",
         "2023-05-17 09:55:27.838000",
         "private-company-limited-by-shares",
         null,
         "Registered",
         "Uganda",
         "2000000.0",
         "100.0",
         null,
         null
        ]
       ],
       "shape": {
        "columns": 9,
        "rows": 5
       }
      },
      "text/html": [
       "<div>\n",
       "<style scoped>\n",
       "    .dataframe tbody tr th:only-of-type {\n",
       "        vertical-align: middle;\n",
       "    }\n",
       "\n",
       "    .dataframe tbody tr th {\n",
       "        vertical-align: top;\n",
       "    }\n",
       "\n",
       "    .dataframe thead th {\n",
       "        text-align: right;\n",
       "    }\n",
       "</style>\n",
       "<table border=\"1\" class=\"dataframe\">\n",
       "  <thead>\n",
       "    <tr style=\"text-align: right;\">\n",
       "      <th></th>\n",
       "      <th>Date of Registration</th>\n",
       "      <th>Company Type</th>\n",
       "      <th>Unnamed: 2</th>\n",
       "      <th>Registration Status</th>\n",
       "      <th>Country Of Incorporation</th>\n",
       "      <th>Nominal Share Capital</th>\n",
       "      <th>Number Of Shares</th>\n",
       "      <th>Re Registration Date</th>\n",
       "      <th>Last Year Company Filed Returns</th>\n",
       "    </tr>\n",
       "  </thead>\n",
       "  <tbody>\n",
       "    <tr>\n",
       "      <th>0</th>\n",
       "      <td>2023-05-22 10:11:24.692</td>\n",
       "      <td>single-member-company</td>\n",
       "      <td>NaN</td>\n",
       "      <td>Registered</td>\n",
       "      <td>Uganda</td>\n",
       "      <td>5000000.0</td>\n",
       "      <td>100.0</td>\n",
       "      <td>NaT</td>\n",
       "      <td>2024.0</td>\n",
       "    </tr>\n",
       "    <tr>\n",
       "      <th>1</th>\n",
       "      <td>2023-04-13 08:39:42.952</td>\n",
       "      <td>private-company-limited-by-shares</td>\n",
       "      <td>NaN</td>\n",
       "      <td>Registered</td>\n",
       "      <td>NaN</td>\n",
       "      <td>2000000.0</td>\n",
       "      <td>100.0</td>\n",
       "      <td>NaT</td>\n",
       "      <td>2024.0</td>\n",
       "    </tr>\n",
       "    <tr>\n",
       "      <th>2</th>\n",
       "      <td>2025-02-13 07:19:01.993</td>\n",
       "      <td>private-company-limited-by-guarantee-without-s...</td>\n",
       "      <td>NaN</td>\n",
       "      <td>Registered</td>\n",
       "      <td>Uganda</td>\n",
       "      <td>NaN</td>\n",
       "      <td>NaN</td>\n",
       "      <td>NaT</td>\n",
       "      <td>0.0</td>\n",
       "    </tr>\n",
       "    <tr>\n",
       "      <th>3</th>\n",
       "      <td>2025-01-29 11:07:40.697</td>\n",
       "      <td>private-company-limited-by-guarantee-without-s...</td>\n",
       "      <td>NaN</td>\n",
       "      <td>Registered</td>\n",
       "      <td>Uganda</td>\n",
       "      <td>NaN</td>\n",
       "      <td>NaN</td>\n",
       "      <td>NaT</td>\n",
       "      <td>0.0</td>\n",
       "    </tr>\n",
       "    <tr>\n",
       "      <th>4</th>\n",
       "      <td>2023-05-17 09:55:27.838</td>\n",
       "      <td>private-company-limited-by-shares</td>\n",
       "      <td>NaN</td>\n",
       "      <td>Registered</td>\n",
       "      <td>Uganda</td>\n",
       "      <td>2000000.0</td>\n",
       "      <td>100.0</td>\n",
       "      <td>NaT</td>\n",
       "      <td>NaN</td>\n",
       "    </tr>\n",
       "  </tbody>\n",
       "</table>\n",
       "</div>"
      ],
      "text/plain": [
       "     Date of Registration                                       Company Type  \\\n",
       "0 2023-05-22 10:11:24.692                              single-member-company   \n",
       "1 2023-04-13 08:39:42.952                  private-company-limited-by-shares   \n",
       "2 2025-02-13 07:19:01.993  private-company-limited-by-guarantee-without-s...   \n",
       "3 2025-01-29 11:07:40.697  private-company-limited-by-guarantee-without-s...   \n",
       "4 2023-05-17 09:55:27.838                  private-company-limited-by-shares   \n",
       "\n",
       "   Unnamed: 2 Registration Status Country Of Incorporation  \\\n",
       "0         NaN          Registered                   Uganda   \n",
       "1         NaN          Registered                      NaN   \n",
       "2         NaN          Registered                   Uganda   \n",
       "3         NaN          Registered                   Uganda   \n",
       "4         NaN          Registered                   Uganda   \n",
       "\n",
       "   Nominal Share Capital  Number Of Shares Re Registration Date  \\\n",
       "0              5000000.0             100.0                  NaT   \n",
       "1              2000000.0             100.0                  NaT   \n",
       "2                    NaN               NaN                  NaT   \n",
       "3                    NaN               NaN                  NaT   \n",
       "4              2000000.0             100.0                  NaT   \n",
       "\n",
       "   Last Year Company Filed Returns  \n",
       "0                           2024.0  \n",
       "1                           2024.0  \n",
       "2                              0.0  \n",
       "3                              0.0  \n",
       "4                              NaN  "
      ]
     },
     "execution_count": 3,
     "metadata": {},
     "output_type": "execute_result"
    }
   ],
   "source": [
    "#Viewing the first 5 rows of the dataset\n",
    "df.head()"
   ]
  },
  {
   "cell_type": "code",
   "execution_count": 4,
   "id": "9bafe73a",
   "metadata": {},
   "outputs": [
    {
     "data": {
      "text/plain": [
       "(134338, 9)"
      ]
     },
     "execution_count": 4,
     "metadata": {},
     "output_type": "execute_result"
    }
   ],
   "source": [
    "#viewing the shape of the data\n",
    "df.shape"
   ]
  },
  {
   "cell_type": "code",
   "execution_count": 5,
   "id": "cd3fa304",
   "metadata": {},
   "outputs": [
    {
     "data": {
      "application/vnd.microsoft.datawrangler.viewer.v0+json": {
       "columns": [
        {
         "name": "index",
         "rawType": "object",
         "type": "string"
        },
        {
         "name": "0",
         "rawType": "object",
         "type": "unknown"
        }
       ],
       "ref": "6dbe08eb-ec83-4471-b17b-31447959cdae",
       "rows": [
        [
         "Date of Registration",
         "datetime64[ns]"
        ],
        [
         "Company Type",
         "object"
        ],
        [
         "Unnamed: 2",
         "float64"
        ],
        [
         "Registration Status",
         "object"
        ],
        [
         "Country Of Incorporation",
         "object"
        ],
        [
         "Nominal Share Capital",
         "float64"
        ],
        [
         "Number Of Shares",
         "float64"
        ],
        [
         "Re Registration Date",
         "datetime64[ns]"
        ],
        [
         "Last Year Company Filed Returns",
         "float64"
        ]
       ],
       "shape": {
        "columns": 1,
        "rows": 9
       }
      },
      "text/plain": [
       "Date of Registration               datetime64[ns]\n",
       "Company Type                               object\n",
       "Unnamed: 2                                float64\n",
       "Registration Status                        object\n",
       "Country Of Incorporation                   object\n",
       "Nominal Share Capital                     float64\n",
       "Number Of Shares                          float64\n",
       "Re Registration Date               datetime64[ns]\n",
       "Last Year Company Filed Returns           float64\n",
       "dtype: object"
      ]
     },
     "execution_count": 5,
     "metadata": {},
     "output_type": "execute_result"
    }
   ],
   "source": [
    "#Viewing te data types in the data\n",
    "df.dtypes"
   ]
  },
  {
   "cell_type": "code",
   "execution_count": 8,
   "id": "d3c82de4",
   "metadata": {},
   "outputs": [
    {
     "data": {
      "text/plain": [
       "Index(['Date of Registration', 'Company Type', 'Unnamed: 2',\n",
       "       'Registration Status', 'Country Of Incorporation',\n",
       "       'Nominal Share Capital', 'Number Of Shares', 'Re Registration Date',\n",
       "       'Last Year Company Filed Returns'],\n",
       "      dtype='object')"
      ]
     },
     "execution_count": 8,
     "metadata": {},
     "output_type": "execute_result"
    }
   ],
   "source": [
    "#viewing the column names\n",
    "df.columns"
   ]
  },
  {
   "cell_type": "code",
   "execution_count": 9,
   "id": "6e3b52a5",
   "metadata": {},
   "outputs": [
    {
     "name": "stdout",
     "output_type": "stream",
     "text": [
      "<class 'pandas.core.frame.DataFrame'>\n",
      "RangeIndex: 134338 entries, 0 to 134337\n",
      "Data columns (total 9 columns):\n",
      " #   Column                           Non-Null Count   Dtype         \n",
      "---  ------                           --------------   -----         \n",
      " 0   Date of Registration             134338 non-null  datetime64[ns]\n",
      " 1   Company Type                     134338 non-null  object        \n",
      " 2   Unnamed: 2                       0 non-null       float64       \n",
      " 3   Registration Status              134338 non-null  object        \n",
      " 4   Country Of Incorporation         125870 non-null  object        \n",
      " 5   Nominal Share Capital            110498 non-null  float64       \n",
      " 6   Number Of Shares                 110498 non-null  float64       \n",
      " 7   Re Registration Date             1 non-null       datetime64[ns]\n",
      " 8   Last Year Company Filed Returns  126716 non-null  float64       \n",
      "dtypes: datetime64[ns](2), float64(4), object(3)\n",
      "memory usage: 9.2+ MB\n"
     ]
    }
   ],
   "source": [
    "#displaying the datatypes and null values\n",
    "df.info()"
   ]
  },
  {
   "cell_type": "markdown",
   "id": "f6dd6599",
   "metadata": {},
   "source": [
    "3. IDENTIFYING AND HANDLING MISSING VALUES"
   ]
  },
  {
   "cell_type": "code",
   "execution_count": 10,
   "id": "f7dedf87",
   "metadata": {},
   "outputs": [
    {
     "data": {
      "application/vnd.microsoft.datawrangler.viewer.v0+json": {
       "columns": [
        {
         "name": "index",
         "rawType": "object",
         "type": "string"
        },
        {
         "name": "0",
         "rawType": "int64",
         "type": "integer"
        }
       ],
       "ref": "936d649e-b10f-4f34-9369-9dc894e08482",
       "rows": [
        [
         "Date of Registration",
         "0"
        ],
        [
         "Company Type",
         "0"
        ],
        [
         "Unnamed: 2",
         "134338"
        ],
        [
         "Registration Status",
         "0"
        ],
        [
         "Country Of Incorporation",
         "8468"
        ],
        [
         "Nominal Share Capital",
         "23840"
        ],
        [
         "Number Of Shares",
         "23840"
        ],
        [
         "Re Registration Date",
         "134337"
        ],
        [
         "Last Year Company Filed Returns",
         "7622"
        ]
       ],
       "shape": {
        "columns": 1,
        "rows": 9
       }
      },
      "text/plain": [
       "Date of Registration                    0\n",
       "Company Type                            0\n",
       "Unnamed: 2                         134338\n",
       "Registration Status                     0\n",
       "Country Of Incorporation             8468\n",
       "Nominal Share Capital               23840\n",
       "Number Of Shares                    23840\n",
       "Re Registration Date               134337\n",
       "Last Year Company Filed Returns      7622\n",
       "dtype: int64"
      ]
     },
     "execution_count": 10,
     "metadata": {},
     "output_type": "execute_result"
    }
   ],
   "source": [
    "#Identifying the number of null values in each column\n",
    "df.isna().sum()"
   ]
  },
  {
   "cell_type": "code",
   "execution_count": 11,
   "id": "045b99b8",
   "metadata": {},
   "outputs": [],
   "source": [
    "# Since the column we're dropping has no column title we are gonna use it's index to identify it\n",
    "df1 = df.drop(df.columns[2],axis=1)"
   ]
  },
  {
   "cell_type": "code",
   "execution_count": 12,
   "id": "acd22f5f",
   "metadata": {},
   "outputs": [
    {
     "data": {
      "application/vnd.microsoft.datawrangler.viewer.v0+json": {
       "columns": [
        {
         "name": "index",
         "rawType": "int64",
         "type": "integer"
        },
        {
         "name": "Date of Registration",
         "rawType": "datetime64[ns]",
         "type": "datetime"
        },
        {
         "name": "Company Type",
         "rawType": "object",
         "type": "string"
        },
        {
         "name": "Registration Status",
         "rawType": "object",
         "type": "string"
        },
        {
         "name": "Country Of Incorporation",
         "rawType": "object",
         "type": "unknown"
        },
        {
         "name": "Nominal Share Capital",
         "rawType": "float64",
         "type": "float"
        },
        {
         "name": "Number Of Shares",
         "rawType": "float64",
         "type": "float"
        },
        {
         "name": "Re Registration Date",
         "rawType": "datetime64[ns]",
         "type": "datetime"
        },
        {
         "name": "Last Year Company Filed Returns",
         "rawType": "float64",
         "type": "float"
        }
       ],
       "ref": "a717f1cc-34ab-4435-bb3d-f9d9fbd79abe",
       "rows": [
        [
         "0",
         "2023-05-22 10:11:24.692000",
         "single-member-company",
         "Registered",
         "Uganda",
         "5000000.0",
         "100.0",
         null,
         "2024.0"
        ],
        [
         "1",
         "2023-04-13 08:39:42.952000",
         "private-company-limited-by-shares",
         "Registered",
         null,
         "2000000.0",
         "100.0",
         null,
         "2024.0"
        ],
        [
         "2",
         "2025-02-13 07:19:01.993000",
         "private-company-limited-by-guarantee-without-shares",
         "Registered",
         "Uganda",
         null,
         null,
         null,
         "0.0"
        ],
        [
         "3",
         "2025-01-29 11:07:40.697000",
         "private-company-limited-by-guarantee-without-shares",
         "Registered",
         "Uganda",
         null,
         null,
         null,
         "0.0"
        ],
        [
         "4",
         "2023-05-17 09:55:27.838000",
         "private-company-limited-by-shares",
         "Registered",
         "Uganda",
         "2000000.0",
         "100.0",
         null,
         null
        ]
       ],
       "shape": {
        "columns": 8,
        "rows": 5
       }
      },
      "text/html": [
       "<div>\n",
       "<style scoped>\n",
       "    .dataframe tbody tr th:only-of-type {\n",
       "        vertical-align: middle;\n",
       "    }\n",
       "\n",
       "    .dataframe tbody tr th {\n",
       "        vertical-align: top;\n",
       "    }\n",
       "\n",
       "    .dataframe thead th {\n",
       "        text-align: right;\n",
       "    }\n",
       "</style>\n",
       "<table border=\"1\" class=\"dataframe\">\n",
       "  <thead>\n",
       "    <tr style=\"text-align: right;\">\n",
       "      <th></th>\n",
       "      <th>Date of Registration</th>\n",
       "      <th>Company Type</th>\n",
       "      <th>Registration Status</th>\n",
       "      <th>Country Of Incorporation</th>\n",
       "      <th>Nominal Share Capital</th>\n",
       "      <th>Number Of Shares</th>\n",
       "      <th>Re Registration Date</th>\n",
       "      <th>Last Year Company Filed Returns</th>\n",
       "    </tr>\n",
       "  </thead>\n",
       "  <tbody>\n",
       "    <tr>\n",
       "      <th>0</th>\n",
       "      <td>2023-05-22 10:11:24.692</td>\n",
       "      <td>single-member-company</td>\n",
       "      <td>Registered</td>\n",
       "      <td>Uganda</td>\n",
       "      <td>5000000.0</td>\n",
       "      <td>100.0</td>\n",
       "      <td>NaT</td>\n",
       "      <td>2024.0</td>\n",
       "    </tr>\n",
       "    <tr>\n",
       "      <th>1</th>\n",
       "      <td>2023-04-13 08:39:42.952</td>\n",
       "      <td>private-company-limited-by-shares</td>\n",
       "      <td>Registered</td>\n",
       "      <td>NaN</td>\n",
       "      <td>2000000.0</td>\n",
       "      <td>100.0</td>\n",
       "      <td>NaT</td>\n",
       "      <td>2024.0</td>\n",
       "    </tr>\n",
       "    <tr>\n",
       "      <th>2</th>\n",
       "      <td>2025-02-13 07:19:01.993</td>\n",
       "      <td>private-company-limited-by-guarantee-without-s...</td>\n",
       "      <td>Registered</td>\n",
       "      <td>Uganda</td>\n",
       "      <td>NaN</td>\n",
       "      <td>NaN</td>\n",
       "      <td>NaT</td>\n",
       "      <td>0.0</td>\n",
       "    </tr>\n",
       "    <tr>\n",
       "      <th>3</th>\n",
       "      <td>2025-01-29 11:07:40.697</td>\n",
       "      <td>private-company-limited-by-guarantee-without-s...</td>\n",
       "      <td>Registered</td>\n",
       "      <td>Uganda</td>\n",
       "      <td>NaN</td>\n",
       "      <td>NaN</td>\n",
       "      <td>NaT</td>\n",
       "      <td>0.0</td>\n",
       "    </tr>\n",
       "    <tr>\n",
       "      <th>4</th>\n",
       "      <td>2023-05-17 09:55:27.838</td>\n",
       "      <td>private-company-limited-by-shares</td>\n",
       "      <td>Registered</td>\n",
       "      <td>Uganda</td>\n",
       "      <td>2000000.0</td>\n",
       "      <td>100.0</td>\n",
       "      <td>NaT</td>\n",
       "      <td>NaN</td>\n",
       "    </tr>\n",
       "  </tbody>\n",
       "</table>\n",
       "</div>"
      ],
      "text/plain": [
       "     Date of Registration                                       Company Type  \\\n",
       "0 2023-05-22 10:11:24.692                              single-member-company   \n",
       "1 2023-04-13 08:39:42.952                  private-company-limited-by-shares   \n",
       "2 2025-02-13 07:19:01.993  private-company-limited-by-guarantee-without-s...   \n",
       "3 2025-01-29 11:07:40.697  private-company-limited-by-guarantee-without-s...   \n",
       "4 2023-05-17 09:55:27.838                  private-company-limited-by-shares   \n",
       "\n",
       "  Registration Status Country Of Incorporation  Nominal Share Capital  \\\n",
       "0          Registered                   Uganda              5000000.0   \n",
       "1          Registered                      NaN              2000000.0   \n",
       "2          Registered                   Uganda                    NaN   \n",
       "3          Registered                   Uganda                    NaN   \n",
       "4          Registered                   Uganda              2000000.0   \n",
       "\n",
       "   Number Of Shares Re Registration Date  Last Year Company Filed Returns  \n",
       "0             100.0                  NaT                           2024.0  \n",
       "1             100.0                  NaT                           2024.0  \n",
       "2               NaN                  NaT                              0.0  \n",
       "3               NaN                  NaT                              0.0  \n",
       "4             100.0                  NaT                              NaN  "
      ]
     },
     "execution_count": 12,
     "metadata": {},
     "output_type": "execute_result"
    }
   ],
   "source": [
    "#confirming that the column has been dropped\n",
    "df1.head()"
   ]
  },
  {
   "cell_type": "code",
   "execution_count": 13,
   "id": "30b6211b",
   "metadata": {},
   "outputs": [],
   "source": [
    "#We're gonna work on the Country of Incorporation column next and this is a categorical value. \n",
    "#So we're gonna fill in the missing values using the mode of the column\n",
    "df1['Country Of Incorporation'] = df1['Country Of Incorporation'].fillna(df1['Country Of Incorporation'].mode()[0])"
   ]
  },
  {
   "cell_type": "code",
   "execution_count": 14,
   "id": "f8fa847f",
   "metadata": {},
   "outputs": [
    {
     "data": {
      "application/vnd.microsoft.datawrangler.viewer.v0+json": {
       "columns": [
        {
         "name": "index",
         "rawType": "object",
         "type": "string"
        },
        {
         "name": "0",
         "rawType": "int64",
         "type": "integer"
        }
       ],
       "ref": "34bbe9a1-3569-4bb1-b5ea-11c9b3623ead",
       "rows": [
        [
         "Date of Registration",
         "0"
        ],
        [
         "Company Type",
         "0"
        ],
        [
         "Registration Status",
         "0"
        ],
        [
         "Country Of Incorporation",
         "0"
        ],
        [
         "Nominal Share Capital",
         "23840"
        ],
        [
         "Number Of Shares",
         "23840"
        ],
        [
         "Re Registration Date",
         "134337"
        ],
        [
         "Last Year Company Filed Returns",
         "7622"
        ]
       ],
       "shape": {
        "columns": 1,
        "rows": 8
       }
      },
      "text/plain": [
       "Date of Registration                    0\n",
       "Company Type                            0\n",
       "Registration Status                     0\n",
       "Country Of Incorporation                0\n",
       "Nominal Share Capital               23840\n",
       "Number Of Shares                    23840\n",
       "Re Registration Date               134337\n",
       "Last Year Company Filed Returns      7622\n",
       "dtype: int64"
      ]
     },
     "execution_count": 14,
     "metadata": {},
     "output_type": "execute_result"
    }
   ],
   "source": [
    "#Checking if the missing values have  been filled\n",
    "df1.isna().sum()"
   ]
  },
  {
   "cell_type": "code",
   "execution_count": 15,
   "id": "537ac7a7",
   "metadata": {},
   "outputs": [],
   "source": [
    "# VISUALIZATION OF THE NORMINAL SHARE CAPITAL REALLY LOADED FOR AGES AND AGES SO I CHOSE TO USE THE KNOWLEDGE OF \n",
    "#DISTRIBUTION OF THESE COLUMNS TAT I HAD ALREADY ATTAINED FROM MY R SCRIPT ANALYSIS\n",
    "df1['Nominal Share Capital'] = df1['Nominal Share Capital'].fillna(df1['Nominal Share Capital'].median)\n"
   ]
  },
  {
   "cell_type": "code",
   "execution_count": 16,
   "id": "e8c2818b",
   "metadata": {},
   "outputs": [
    {
     "data": {
      "application/vnd.microsoft.datawrangler.viewer.v0+json": {
       "columns": [
        {
         "name": "index",
         "rawType": "object",
         "type": "string"
        },
        {
         "name": "0",
         "rawType": "int64",
         "type": "integer"
        }
       ],
       "ref": "08869781-636a-4c0a-aa41-8edc5fee6402",
       "rows": [
        [
         "Date of Registration",
         "0"
        ],
        [
         "Company Type",
         "0"
        ],
        [
         "Registration Status",
         "0"
        ],
        [
         "Country Of Incorporation",
         "0"
        ],
        [
         "Nominal Share Capital",
         "0"
        ],
        [
         "Number Of Shares",
         "23840"
        ],
        [
         "Re Registration Date",
         "134337"
        ],
        [
         "Last Year Company Filed Returns",
         "7622"
        ]
       ],
       "shape": {
        "columns": 1,
        "rows": 8
       }
      },
      "text/plain": [
       "Date of Registration                    0\n",
       "Company Type                            0\n",
       "Registration Status                     0\n",
       "Country Of Incorporation                0\n",
       "Nominal Share Capital                   0\n",
       "Number Of Shares                    23840\n",
       "Re Registration Date               134337\n",
       "Last Year Company Filed Returns      7622\n",
       "dtype: int64"
      ]
     },
     "execution_count": 16,
     "metadata": {},
     "output_type": "execute_result"
    }
   ],
   "source": [
    "#Checking if the missing values have  been filled\n",
    "df1.isna().sum()"
   ]
  },
  {
   "cell_type": "code",
   "execution_count": 17,
   "id": "48e9031b",
   "metadata": {},
   "outputs": [],
   "source": [
    "# VISUALIZATION OF THE NUMBER OF SHARES REALLY LOADED FOR AGES AND AGES SO I CHOSE TO USE THE KNOWLEDGE OF \n",
    "#DISTRIBUTION OF THESE COLUMNS TAT I HAD ALREADY ATTAINED FROM MY R SCRIPT ANALYSIS\n",
    "df1['Number Of Shares'] = df1['Number Of Shares'].fillna(df1['Number Of Shares'].median)\n"
   ]
  },
  {
   "cell_type": "code",
   "execution_count": 18,
   "id": "892656ae",
   "metadata": {},
   "outputs": [
    {
     "data": {
      "application/vnd.microsoft.datawrangler.viewer.v0+json": {
       "columns": [
        {
         "name": "index",
         "rawType": "object",
         "type": "string"
        },
        {
         "name": "0",
         "rawType": "int64",
         "type": "integer"
        }
       ],
       "ref": "6f89b691-8d69-43d2-a7f4-1387db2cae74",
       "rows": [
        [
         "Date of Registration",
         "0"
        ],
        [
         "Company Type",
         "0"
        ],
        [
         "Registration Status",
         "0"
        ],
        [
         "Country Of Incorporation",
         "0"
        ],
        [
         "Nominal Share Capital",
         "0"
        ],
        [
         "Number Of Shares",
         "0"
        ],
        [
         "Re Registration Date",
         "134337"
        ],
        [
         "Last Year Company Filed Returns",
         "7622"
        ]
       ],
       "shape": {
        "columns": 1,
        "rows": 8
       }
      },
      "text/plain": [
       "Date of Registration                    0\n",
       "Company Type                            0\n",
       "Registration Status                     0\n",
       "Country Of Incorporation                0\n",
       "Nominal Share Capital                   0\n",
       "Number Of Shares                        0\n",
       "Re Registration Date               134337\n",
       "Last Year Company Filed Returns      7622\n",
       "dtype: int64"
      ]
     },
     "execution_count": 18,
     "metadata": {},
     "output_type": "execute_result"
    }
   ],
   "source": [
    "#Checking if the missing values have  been filled\n",
    "df1.isna().sum()"
   ]
  },
  {
   "cell_type": "code",
   "execution_count": 19,
   "id": "d36b0c5c",
   "metadata": {},
   "outputs": [],
   "source": [
    "#VISUALIZATION OF THE RE REGISTRATION DATE REALLY LOADED FOR AGES AND AGES SO I CHOSE TO USE THE KNOWLEDGE OF \n",
    "#DISTRIBUTION OF THESE COLUMNS TAT I HAD ALREADY ATTAINED FROM MY R SCRIPT ANALYSIS\n",
    "df1['Re Registration Date'] = df1['Re Registration Date'].fillna(df1['Re Registration Date'].mode()[0])\n"
   ]
  },
  {
   "cell_type": "code",
   "execution_count": 20,
   "id": "1652bbd5",
   "metadata": {},
   "outputs": [
    {
     "data": {
      "application/vnd.microsoft.datawrangler.viewer.v0+json": {
       "columns": [
        {
         "name": "index",
         "rawType": "object",
         "type": "string"
        },
        {
         "name": "0",
         "rawType": "int64",
         "type": "integer"
        }
       ],
       "ref": "39b47af3-9d2d-4e78-9b8a-0cd478f3d66b",
       "rows": [
        [
         "Date of Registration",
         "0"
        ],
        [
         "Company Type",
         "0"
        ],
        [
         "Registration Status",
         "0"
        ],
        [
         "Country Of Incorporation",
         "0"
        ],
        [
         "Nominal Share Capital",
         "0"
        ],
        [
         "Number Of Shares",
         "0"
        ],
        [
         "Re Registration Date",
         "0"
        ],
        [
         "Last Year Company Filed Returns",
         "7622"
        ]
       ],
       "shape": {
        "columns": 1,
        "rows": 8
       }
      },
      "text/plain": [
       "Date of Registration                  0\n",
       "Company Type                          0\n",
       "Registration Status                   0\n",
       "Country Of Incorporation              0\n",
       "Nominal Share Capital                 0\n",
       "Number Of Shares                      0\n",
       "Re Registration Date                  0\n",
       "Last Year Company Filed Returns    7622\n",
       "dtype: int64"
      ]
     },
     "execution_count": 20,
     "metadata": {},
     "output_type": "execute_result"
    }
   ],
   "source": [
    "#Checking if the missing values have  been filled\n",
    "df1.isna().sum()"
   ]
  },
  {
   "cell_type": "code",
   "execution_count": 21,
   "id": "82b01952",
   "metadata": {},
   "outputs": [],
   "source": [
    "#VISUALIZATION OF THE RE REGISTRATION DATE REALLY LOADED FOR AGES AND AGES SO I CHOSE TO USE THE KNOWLEDGE OF \n",
    "#DISTRIBUTION OF THESE COLUMNS TAT I HAD ALREADY ATTAINED FROM MY R SCRIPT ANALYSIS\n",
    "df1['Last Year Company Filed Returns'] = df1['Last Year Company Filed Returns'].fillna(df1['Last Year Company Filed Returns'].median())\n"
   ]
  },
  {
   "cell_type": "code",
   "execution_count": 22,
   "id": "3eb68a54",
   "metadata": {},
   "outputs": [
    {
     "data": {
      "application/vnd.microsoft.datawrangler.viewer.v0+json": {
       "columns": [
        {
         "name": "index",
         "rawType": "object",
         "type": "string"
        },
        {
         "name": "0",
         "rawType": "int64",
         "type": "integer"
        }
       ],
       "ref": "66d9c7a9-fa2f-4527-b131-e83c814b79d3",
       "rows": [
        [
         "Date of Registration",
         "0"
        ],
        [
         "Company Type",
         "0"
        ],
        [
         "Registration Status",
         "0"
        ],
        [
         "Country Of Incorporation",
         "0"
        ],
        [
         "Nominal Share Capital",
         "0"
        ],
        [
         "Number Of Shares",
         "0"
        ],
        [
         "Re Registration Date",
         "0"
        ],
        [
         "Last Year Company Filed Returns",
         "0"
        ]
       ],
       "shape": {
        "columns": 1,
        "rows": 8
       }
      },
      "text/plain": [
       "Date of Registration               0\n",
       "Company Type                       0\n",
       "Registration Status                0\n",
       "Country Of Incorporation           0\n",
       "Nominal Share Capital              0\n",
       "Number Of Shares                   0\n",
       "Re Registration Date               0\n",
       "Last Year Company Filed Returns    0\n",
       "dtype: int64"
      ]
     },
     "execution_count": 22,
     "metadata": {},
     "output_type": "execute_result"
    }
   ],
   "source": [
    "#Checking if the missing values have  been filled\n",
    "df1.isna().sum()"
   ]
  },
  {
   "cell_type": "markdown",
   "id": "aacfb5cb",
   "metadata": {},
   "source": [
    "DATA TRANSFORMATION"
   ]
  },
  {
   "cell_type": "code",
   "execution_count": 23,
   "id": "feb3cff0",
   "metadata": {},
   "outputs": [
    {
     "data": {
      "application/vnd.microsoft.datawrangler.viewer.v0+json": {
       "columns": [
        {
         "name": "index",
         "rawType": "object",
         "type": "string"
        },
        {
         "name": "0",
         "rawType": "object",
         "type": "unknown"
        }
       ],
       "ref": "cfa50b9c-e144-4f20-be5a-a1a214224ca9",
       "rows": [
        [
         "Date of Registration",
         "datetime64[ns]"
        ],
        [
         "Company Type",
         "object"
        ],
        [
         "Registration Status",
         "object"
        ],
        [
         "Country Of Incorporation",
         "object"
        ],
        [
         "Nominal Share Capital",
         "object"
        ],
        [
         "Number Of Shares",
         "object"
        ],
        [
         "Re Registration Date",
         "datetime64[ns]"
        ],
        [
         "Last Year Company Filed Returns",
         "float64"
        ]
       ],
       "shape": {
        "columns": 1,
        "rows": 8
       }
      },
      "text/plain": [
       "Date of Registration               datetime64[ns]\n",
       "Company Type                               object\n",
       "Registration Status                        object\n",
       "Country Of Incorporation                   object\n",
       "Nominal Share Capital                      object\n",
       "Number Of Shares                           object\n",
       "Re Registration Date               datetime64[ns]\n",
       "Last Year Company Filed Returns           float64\n",
       "dtype: object"
      ]
     },
     "execution_count": 23,
     "metadata": {},
     "output_type": "execute_result"
    }
   ],
   "source": [
    "df1.dtypes"
   ]
  },
  {
   "cell_type": "code",
   "execution_count": 36,
   "id": "16a914d8",
   "metadata": {},
   "outputs": [],
   "source": [
    "# Saving df1 to an Excel file\n",
    "df1.to_excel(\"cleaned_companies_data.xlsx\", index=False)\n"
   ]
  },
  {
   "cell_type": "code",
   "execution_count": 35,
   "id": "0be8eeb9",
   "metadata": {},
   "outputs": [
    {
     "data": {
      "image/png": "[encoded data removed]",
      "text/plain": [
       "<Figure size 2000x1000 with 1 Axes>"
      ]
     },
     "metadata": {},
     "output_type": "display_data"
    }
   ],
   "source": [
    "yearly_counts = df1['Date of Registration'].dt.year.value_counts().sort_index()\n",
    "\n",
    "plt.figure(figsize=(20,10))\n",
    "sns.lineplot(x=yearly_counts.index, y=yearly_counts.values, marker='o', color='crimson', linewidth=2)\n",
    "plt.title('Yearly Registrations', fontsize=18)\n",
    "plt.xlabel('Year of Registration')\n",
    "plt.ylabel('Number of Registrations')\n",
    "plt.grid(True)\n",
    "plt.tight_layout()\n",
    "plt.show()"
   ]
  },
  {
   "cell_type": "code",
   "execution_count": 34,
   "id": "238af40f",
   "metadata": {},
   "outputs": [
    {
     "data": {
      "image/png": "[encoded data removed]",
      "text/plain": [
       "<Figure size 2000x1000 with 1 Axes>"
      ]
     },
     "metadata": {},
     "output_type": "display_data"
    }
   ],
   "source": [
    "monthly_counts = df1['Date of Registration'].dt.to_period('M').astype(str).value_counts().sort_index()\n",
    "\n",
    "plt.figure(figsize=(20, 10))\n",
    "sns.lineplot(x=monthly_counts.index, y=monthly_counts.values, marker='o', color='teal', linewidth=2)\n",
    "plt.title('Monthly  Registrations', fontsize=18)\n",
    "plt.xlabel('Year and Month of Registration')\n",
    "plt.ylabel('Number of Registrations')\n",
    "plt.xticks(rotation=45)\n",
    "plt.grid(True)\n",
    "plt.tight_layout()\n",
    "plt.show()"
   ]
  },
  {
   "cell_type": "code",
   "execution_count": null,
   "id": "de2d6147",
   "metadata": {},
   "outputs": [],
   "source": []
  }
 ],
 "metadata": {
  "kernelspec": {
   "display_name": "Python 3",
   "language": "python",
   "name": "python3"
  },
  "language_info": {
   "codemirror_mode": {
    "name": "ipython",
    "version": 3
   },
   "file_extension": ".py",
   "mimetype": "text/x-python",
   "name": "python",
   "nbconvert_exporter": "python",
   "pygments_lexer": "ipython3",
   "version": "3.13.0"
  }
 },
 "nbformat": 4,
 "nbformat_minor": 5
}
