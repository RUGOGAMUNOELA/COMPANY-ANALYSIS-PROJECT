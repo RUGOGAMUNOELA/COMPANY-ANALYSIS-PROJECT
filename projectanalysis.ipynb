{
 "cells": [
  {
   "cell_type": "markdown",
   "id": "daa5f2ca",
   "metadata": {},
   "source": [
    " RUGOGAMU NOELA   COMPANY PROJECT ANALYSIS"
   ]
  },
  {
   "cell_type": "markdown",
   "id": "1a21e395",
   "metadata": {},
   "source": [
    "1. IMPORTING REQUIRED PACKAGES"
   ]
  },
  {
   "cell_type": "code",
   "execution_count": 3,
   "id": "44edc96b",
   "metadata": {},
   "outputs": [],
   "source": [
    "import pandas as pd #For handling data\n",
    "import numpy as np # For calculations and operations\n",
    "import seaborn as sns # For creation of beautiful visualisations\n",
    "import matplotlib.pyplot as plt #For easy customisation of plots and graphs"
   ]
  },
  {
   "cell_type": "markdown",
   "id": "c8ea24ef",
   "metadata": {},
   "source": [
    "2. LOADING THE DATASET"
   ]
  },
  {
   "cell_type": "code",
   "execution_count": 6,
   "id": "d17eef25",
   "metadata": {},
   "outputs": [],
   "source": [
    "#Importing the dataset\n",
    "df = pd.read_excel('Companies - Analysis.xlsx', engine = 'openpyxl')"
   ]
  },
  {
   "cell_type": "markdown",
   "id": "92ccf257",
   "metadata": {},
   "source": [
    "3. UNDERSTANDING THE DATASET"
   ]
  },
  {
   "cell_type": "code",
   "execution_count": 7,
   "id": "3cb93d0a",
   "metadata": {},
   "outputs": [
    {
     "data": {
      "application/vnd.microsoft.datawrangler.viewer.v0+json": {
       "columns": [
        {
         "name": "index",
         "rawType": "int64",
         "type": "integer"
        },
        {
         "name": "Date of Registration",
         "rawType": "datetime64[ns]",
         "type": "datetime"
        },
        {
         "name": "Company Type",
         "rawType": "object",
         "type": "string"
        },
        {
         "name": "Unnamed: 2",
         "rawType": "float64",
         "type": "float"
        },
        {
         "name": "Registration Status",
         "rawType": "object",
         "type": "string"
        },
        {
         "name": "Country Of Incorporation",
         "rawType": "object",
         "type": "unknown"
        },
        {
         "name": "Nominal Share Capital",
         "rawType": "float64",
         "type": "float"
        },
        {
         "name": "Number Of Shares",
         "rawType": "float64",
         "type": "float"
        },
        {
         "name": "Re Registration Date",
         "rawType": "datetime64[ns]",
         "type": "datetime"
        },
        {
         "name": "Last Year Company Filed Returns",
         "rawType": "float64",
         "type": "float"
        }
       ],
       "conversionMethod": "pd.DataFrame",
       "ref": "c0ecf409-c3d6-405f-a6f4-b8466ed150cd",
       "rows": [
        [
         "0",
         "2023-05-22 10:11:24.692000",
         "single-member-company",
         null,
         "Registered",
         "Uganda",
         "5000000.0",
         "100.0",
         null,
         "2024.0"
        ],
        [
         "1",
         "2023-04-13 08:39:42.952000",
         "private-company-limited-by-shares",
         null,
         "Registered",
         null,
         "2000000.0",
         "100.0",
         null,
         "2024.0"
        ],
        [
         "2",
         "2025-02-13 07:19:01.993000",
         "private-company-limited-by-guarantee-without-shares",
         null,
         "Registered",
         "Uganda",
         null,
         null,
         null,
         "0.0"
        ],
        [
         "3",
         "2025-01-29 11:07:40.697000",
         "private-company-limited-by-guarantee-without-shares",
         null,
         "Registered",
         "Uganda",
         null,
         null,
         null,
         "0.0"
        ],
        [
         "4",
         "2023-05-17 09:55:27.838000",
         "private-company-limited-by-shares",
         null,
         "Registered",
         "Uganda",
         "2000000.0",
         "100.0",
         null,
         null
        ]
       ],
       "shape": {
        "columns": 9,
        "rows": 5
       }
      },
      "text/html": [
       "<div>\n",
       "<style scoped>\n",
       "    .dataframe tbody tr th:only-of-type {\n",
       "        vertical-align: middle;\n",
       "    }\n",
       "\n",
       "    .dataframe tbody tr th {\n",
       "        vertical-align: top;\n",
       "    }\n",
       "\n",
       "    .dataframe thead th {\n",
       "        text-align: right;\n",
       "    }\n",
       "</style>\n",
       "<table border=\"1\" class=\"dataframe\">\n",
       "  <thead>\n",
       "    <tr style=\"text-align: right;\">\n",
       "      <th></th>\n",
       "      <th>Date of Registration</th>\n",
       "      <th>Company Type</th>\n",
       "      <th>Unnamed: 2</th>\n",
       "      <th>Registration Status</th>\n",
       "      <th>Country Of Incorporation</th>\n",
       "      <th>Nominal Share Capital</th>\n",
       "      <th>Number Of Shares</th>\n",
       "      <th>Re Registration Date</th>\n",
       "      <th>Last Year Company Filed Returns</th>\n",
       "    </tr>\n",
       "  </thead>\n",
       "  <tbody>\n",
       "    <tr>\n",
       "      <th>0</th>\n",
       "      <td>2023-05-22 10:11:24.692</td>\n",
       "      <td>single-member-company</td>\n",
       "      <td>NaN</td>\n",
       "      <td>Registered</td>\n",
       "      <td>Uganda</td>\n",
       "      <td>5000000.0</td>\n",
       "      <td>100.0</td>\n",
       "      <td>NaT</td>\n",
       "      <td>2024.0</td>\n",
       "    </tr>\n",
       "    <tr>\n",
       "      <th>1</th>\n",
       "      <td>2023-04-13 08:39:42.952</td>\n",
       "      <td>private-company-limited-by-shares</td>\n",
       "      <td>NaN</td>\n",
       "      <td>Registered</td>\n",
       "      <td>NaN</td>\n",
       "      <td>2000000.0</td>\n",
       "      <td>100.0</td>\n",
       "      <td>NaT</td>\n",
       "      <td>2024.0</td>\n",
       "    </tr>\n",
       "    <tr>\n",
       "      <th>2</th>\n",
       "      <td>2025-02-13 07:19:01.993</td>\n",
       "      <td>private-company-limited-by-guarantee-without-s...</td>\n",
       "      <td>NaN</td>\n",
       "      <td>Registered</td>\n",
       "      <td>Uganda</td>\n",
       "      <td>NaN</td>\n",
       "      <td>NaN</td>\n",
       "      <td>NaT</td>\n",
       "      <td>0.0</td>\n",
       "    </tr>\n",
       "    <tr>\n",
       "      <th>3</th>\n",
       "      <td>2025-01-29 11:07:40.697</td>\n",
       "      <td>private-company-limited-by-guarantee-without-s...</td>\n",
       "      <td>NaN</td>\n",
       "      <td>Registered</td>\n",
       "      <td>Uganda</td>\n",
       "      <td>NaN</td>\n",
       "      <td>NaN</td>\n",
       "      <td>NaT</td>\n",
       "      <td>0.0</td>\n",
       "    </tr>\n",
       "    <tr>\n",
       "      <th>4</th>\n",
       "      <td>2023-05-17 09:55:27.838</td>\n",
       "      <td>private-company-limited-by-shares</td>\n",
       "      <td>NaN</td>\n",
       "      <td>Registered</td>\n",
       "      <td>Uganda</td>\n",
       "      <td>2000000.0</td>\n",
       "      <td>100.0</td>\n",
       "      <td>NaT</td>\n",
       "      <td>NaN</td>\n",
       "    </tr>\n",
       "  </tbody>\n",
       "</table>\n",
       "</div>"
      ],
      "text/plain": [
       "     Date of Registration                                       Company Type  \\\n",
       "0 2023-05-22 10:11:24.692                              single-member-company   \n",
       "1 2023-04-13 08:39:42.952                  private-company-limited-by-shares   \n",
       "2 2025-02-13 07:19:01.993  private-company-limited-by-guarantee-without-s...   \n",
       "3 2025-01-29 11:07:40.697  private-company-limited-by-guarantee-without-s...   \n",
       "4 2023-05-17 09:55:27.838                  private-company-limited-by-shares   \n",
       "\n",
       "   Unnamed: 2 Registration Status Country Of Incorporation  \\\n",
       "0         NaN          Registered                   Uganda   \n",
       "1         NaN          Registered                      NaN   \n",
       "2         NaN          Registered                   Uganda   \n",
       "3         NaN          Registered                   Uganda   \n",
       "4         NaN          Registered                   Uganda   \n",
       "\n",
       "   Nominal Share Capital  Number Of Shares Re Registration Date  \\\n",
       "0              5000000.0             100.0                  NaT   \n",
       "1              2000000.0             100.0                  NaT   \n",
       "2                    NaN               NaN                  NaT   \n",
       "3                    NaN               NaN                  NaT   \n",
       "4              2000000.0             100.0                  NaT   \n",
       "\n",
       "   Last Year Company Filed Returns  \n",
       "0                           2024.0  \n",
       "1                           2024.0  \n",
       "2                              0.0  \n",
       "3                              0.0  \n",
       "4                              NaN  "
      ]
     },
     "execution_count": 7,
     "metadata": {},
     "output_type": "execute_result"
    }
   ],
   "source": [
    "df.head()"
   ]
  }
 ],
 "metadata": {
  "kernelspec": {
   "display_name": "Python 3",
   "language": "python",
   "name": "python3"
  },
  "language_info": {
   "codemirror_mode": {
    "name": "ipython",
    "version": 3
   },
   "file_extension": ".py",
   "mimetype": "text/x-python",
   "name": "python",
   "nbconvert_exporter": "python",
   "pygments_lexer": "ipython3",
   "version": "3.13.0"
  }
 },
 "nbformat": 4,
 "nbformat_minor": 5
}
